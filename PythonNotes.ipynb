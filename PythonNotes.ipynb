{
 "cells": [
  {
   "cell_type": "code",
   "execution_count": 2,
   "id": "0ef510f0",
   "metadata": {},
   "outputs": [],
   "source": [
    "import torch"
   ]
  },
  {
   "cell_type": "code",
   "execution_count": 3,
   "id": "c1096e5e",
   "metadata": {},
   "outputs": [
    {
     "name": "stdout",
     "output_type": "stream",
     "text": [
      "bb\n",
      "bb\n",
      "bb\n",
      "['aa', 'bb']\n",
      "['bb', 'cc']\n",
      "b5=['bb', 'cc']\n",
      "c6=['cc', 'dd']\n",
      "b7=['bb', 'cc']\n",
      "b8='bb', d8='dd'\n",
      "\n",
      "=========\twith dictionaries\t===============\n",
      "\n",
      "{'name': 'Ferrari', 'type': 'petrol', 'engine': 'V8'}\n",
      "{'name': 'Ferrari', 'type': 'petrol', 'engine': 'V8'}\n",
      "\n",
      "==========\twith ranges\t\t==============\n",
      "\n",
      "range(9)=range(0, 9)\n",
      "[range(9)]=[range(0, 9)]\n",
      "[*range(9)]=[0, 1, 2, 3, 4, 5, 6, 7, 8]\n",
      "\n",
      "--> 0 1 2 3 4 5 6 7 8\n",
      "range(0, 9)\n"
     ]
    }
   ],
   "source": [
    "# \n",
    "# Python and asterisk mess (*-mess)\n",
    "#\n",
    "\n",
    "a,b,c='aa', 'bb', 'cc'\n",
    "print(b)\n",
    "a1,b1,c1=['aa', 'bb', 'cc']\n",
    "print(b1)\n",
    "ll = ['aa', 'bb', 'cc']\n",
    "a2,b2,c2 = ll\n",
    "print(b2)\n",
    "*ab,c3=ll\n",
    "print(ab)\n",
    "a4,*bc = ll\n",
    "print(bc)\n",
    "lll = ['aa', 'bb', 'cc', 'dd']\n",
    "a5,*b5,c5=lll\n",
    "print(f\"{b5=}\")\n",
    "a6,b6,*c6=lll\n",
    "print(f\"{c6=}\")\n",
    "_,*b7,_=lll\n",
    "print(f\"{b7=}\")\n",
    "_,b8,_,d8=lll\n",
    "print(f\"{b8=}, {d8=}\")\n",
    "\n",
    "print('\\n=========\\twith dictionaries\\t===============\\n')\n",
    "\n",
    "dict1 = {\n",
    "    'name': 'Ferrari',\n",
    "    'type': 'petrol'\n",
    "}\n",
    "dict2 = {\n",
    "    'engine': 'V8'\n",
    "}\n",
    "dict3 = {**dict1, **dict2}\n",
    "print(dict3)\n",
    "\n",
    "dict4 = dict1 | dict2\n",
    "print(dict4)\n",
    "\n",
    "print('\\n==========\\twith ranges\\t\\t==============\\n')\n",
    "\n",
    "print(f\"{range(9)=}\")\n",
    "print(f\"{[range(9)]=}\")\n",
    "print(f\"{[*range(9)]=}\")\n",
    "\n",
    "# can do this:\n",
    "print('\\n-->', *range(9))\n",
    "# or\n",
    "print(range(9))\n",
    "# but cannot use \n",
    "# NO: x=*range(0)"
   ]
  },
  {
   "cell_type": "code",
   "execution_count": 6,
   "id": "df5f769f",
   "metadata": {},
   "outputs": [
    {
     "name": "stdout",
     "output_type": "stream",
     "text": [
      "a b\n",
      "ab\n",
      "['a', 'b']\n"
     ]
    }
   ],
   "source": [
    "print(*['a','b'])\n",
    "print(\"\".join(['a','b']))\n",
    "print(['a','b'])"
   ]
  },
  {
   "cell_type": "code",
   "execution_count": 4,
   "id": "1150c614",
   "metadata": {},
   "outputs": [
    {
     "name": "stdout",
     "output_type": "stream",
     "text": [
      "0.3751707673072815\n",
      "0.05645662173628807\n",
      "0.36882978677749634\n",
      "0.5893459916114807\n",
      "1.079053282737732\n",
      "0.6184592247009277\n",
      "\n",
      "=========================\n",
      "\n",
      "<class 'generator'>\n",
      "1.1293104887008667\n",
      "1.4279268980026245\n",
      "1.5449377298355103\n",
      "1.23284912109375\n"
     ]
    }
   ],
   "source": [
    "#\n",
    "#  Useful????\n",
    "#\n",
    "gen = (nn for nn in torch.randn(10) if nn > 0)\n",
    "for g in gen:\n",
    "    print(g.item())\n",
    "    \n",
    "xs = [22, 13, 45, 50, 98, 69, 43, 44, 1]\n",
    "[x+1 if x >= 45 else None for x in xs]\n",
    "\n",
    "print(\"\\n=========================\\n\")\n",
    "\n",
    "gen = (nn if nn > .5 else None for nn in torch.randn(10))\n",
    "print(type(gen))\n",
    "for g in gen:\n",
    "    if g:\n",
    "        print(g.item())"
   ]
  },
  {
   "cell_type": "code",
   "execution_count": 5,
   "id": "07e9c559",
   "metadata": {},
   "outputs": [
    {
     "name": "stdout",
     "output_type": "stream",
     "text": [
      "('a', 'b', 'c')\n",
      "[('a', 'b'), 'c']\n",
      "['a', 'b', 'c']\n"
     ]
    }
   ],
   "source": [
    "#\n",
    "# Tuples are immutable, of course\n",
    "#    some syntax picularities:\n",
    "#\n",
    "a=('a','b')\n",
    "b=('c')\n",
    "c=tuple(list(a)+list(b))\n",
    "print(c)\n",
    "\n",
    "# somehow things like\n",
    "c=([a]+[b])\n",
    "print(c)\n",
    "# or even\n",
    "c=(list(a)+list(b))\n",
    "print(c)\n",
    "#don't work\n",
    "\n",
    "# it looks like one has to use 'list' and 'tuple'"
   ]
  },
  {
   "cell_type": "code",
   "execution_count": null,
   "id": "6314f449",
   "metadata": {},
   "outputs": [],
   "source": []
  }
 ],
 "metadata": {
  "kernelspec": {
   "display_name": "Python 3 (ipykernel)",
   "language": "python",
   "name": "python3"
  },
  "language_info": {
   "codemirror_mode": {
    "name": "ipython",
    "version": 3
   },
   "file_extension": ".py",
   "mimetype": "text/x-python",
   "name": "python",
   "nbconvert_exporter": "python",
   "pygments_lexer": "ipython3",
   "version": "3.9.14"
  }
 },
 "nbformat": 4,
 "nbformat_minor": 5
}
