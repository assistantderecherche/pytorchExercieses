{
  "nbformat": 4,
  "nbformat_minor": 0,
  "metadata": {
    "colab": {
      "provenance": []
    },
    "kernelspec": {
      "name": "python3",
      "display_name": "Python 3"
    },
    "language_info": {
      "name": "python"
    }
  },
  "cells": [
    {
      "cell_type": "code",
      "execution_count": null,
      "metadata": {
        "id": "tM72SDscWo0d"
      },
      "outputs": [],
      "source": [
        "#\n",
        "# Not clear why the Karpathy's forward() function doesn't clobber \n",
        "#\n",
        "\n",
        "import torch"
      ]
    },
    {
      "cell_type": "code",
      "source": [
        "t = torch.tensor(range(6)).reshape(2,3)\n",
        "s = t.view(6)\n",
        "torch.equal(t,s)"
      ],
      "metadata": {
        "colab": {
          "base_uri": "https://localhost:8080/"
        },
        "id": "Psd9WL_UWqk4",
        "outputId": "4ba94aa9-657d-45b6-b487-937efc62b9ad"
      },
      "execution_count": null,
      "outputs": [
        {
          "output_type": "execute_result",
          "data": {
            "text/plain": [
              "False"
            ]
          },
          "metadata": {},
          "execution_count": 2
        }
      ]
    },
    {
      "cell_type": "code",
      "source": [
        "def changeView(t):\n",
        "  a,b=t.shape\n",
        "  t=t.view(a*b)\n",
        "  return t"
      ],
      "metadata": {
        "id": "uPAv8aDTWrl0"
      },
      "execution_count": null,
      "outputs": []
    },
    {
      "cell_type": "code",
      "source": [
        "s = changeView(t)\n",
        "print(t.shape)\n",
        "print(s.shape)"
      ],
      "metadata": {
        "colab": {
          "base_uri": "https://localhost:8080/"
        },
        "id": "26udCTObW7l8",
        "outputId": "45585d76-5d3b-4cb8-af33-8bb9f1a8d7ce"
      },
      "execution_count": null,
      "outputs": [
        {
          "output_type": "stream",
          "name": "stdout",
          "text": [
            "torch.Size([2, 3])\n",
            "torch.Size([6])\n"
          ]
        }
      ]
    },
    {
      "cell_type": "code",
      "source": [
        "torch.equal(s, t)"
      ],
      "metadata": {
        "colab": {
          "base_uri": "https://localhost:8080/"
        },
        "id": "cfdwbsQpXCJN",
        "outputId": "c900c43f-358a-4f4d-c84f-fd3bba78e5c6"
      },
      "execution_count": null,
      "outputs": [
        {
          "output_type": "execute_result",
          "data": {
            "text/plain": [
              "False"
            ]
          },
          "metadata": {},
          "execution_count": 7
        }
      ]
    },
    {
      "cell_type": "code",
      "source": [
        "torch.min(torch.eq(s.view(2,3),t))"
      ],
      "metadata": {
        "colab": {
          "base_uri": "https://localhost:8080/"
        },
        "id": "HTzvp83oXHZt",
        "outputId": "725daa96-4c24-486d-bba7-7b3cdcb42e9f"
      },
      "execution_count": null,
      "outputs": [
        {
          "output_type": "execute_result",
          "data": {
            "text/plain": [
              "tensor(True)"
            ]
          },
          "metadata": {},
          "execution_count": 14
        }
      ]
    },
    {
      "cell_type": "code",
      "source": [],
      "metadata": {
        "id": "FsM9Ine6Xbhe"
      },
      "execution_count": null,
      "outputs": []
    }
  ]
}