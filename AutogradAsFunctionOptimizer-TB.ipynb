{
 "cells": [
  {
   "cell_type": "code",
   "execution_count": 3,
   "id": "43536157-9570-4f10-b469-08d8655eb7ad",
   "metadata": {},
   "outputs": [],
   "source": [
    "import torch\n",
    "import torch.nn as nn\n",
    "import torch.optim as optim\n",
    "\n",
    "from torch.utils.tensorboard import SummaryWriter\n",
    "\n",
    "torch.set_default_dtype(torch.float64)"
   ]
  },
  {
   "cell_type": "code",
   "execution_count": 26,
   "id": "a60f26ed-91f1-4a69-9627-4bafd81274e3",
   "metadata": {},
   "outputs": [],
   "source": [
    "# Tensorboard info from:\n",
    "#\n",
    "# https://pytorch.org/docs/stable/tensorboard.html\n",
    "#\n",
    "\n",
    "#\n",
    "# Tensorboard needs to be called from the command line\n",
    "#\n",
    "#    tensorboard --logdir=runs\n",
    "#\n",
    "\n",
    "from torch.utils.tensorboard import SummaryWriter\n",
    "writer = SummaryWriter()"
   ]
  },
  {
   "cell_type": "code",
   "execution_count": 27,
   "id": "d16561fb-2c0d-492f-8462-85034e6a5cc1",
   "metadata": {},
   "outputs": [],
   "source": [
    "T=1000\n",
    "STEP=int(T/10)"
   ]
  },
  {
   "cell_type": "code",
   "execution_count": 28,
   "id": "da11f80c-3502-4782-ad4c-d5cd6fe53921",
   "metadata": {},
   "outputs": [],
   "source": [
    "#\n",
    "# a wrapper around nn.Module representing \"Y = f(x)\" that is being optimized\n",
    "#\n",
    "# in this case Y=X^2 and the loss function is X^2 as we're trying to minimize Y\n",
    "#\n",
    "# \"guess\" is the starting x-value\n",
    "#\n",
    "class Y(nn.Module):\n",
    "    def __init__(self, guess):\n",
    "        super().__init__()\n",
    "        self.x = nn.Parameter(torch.tensor(guess))\n",
    "        # this is the same:\n",
    "        # self.x = nn.Parameter(torch.tensor(guess), requires_grad=True)\n",
    "    \n",
    "    def forward(self):\n",
    "        return torch.pow(self.x,2)\n",
    "\n",
    "    def loss(self):\n",
    "        return torch.pow(self.x,2).item()"
   ]
  },
  {
   "cell_type": "code",
   "execution_count": 29,
   "id": "aafc6785-cd24-4a19-b41e-ae67e9d08b4b",
   "metadata": {},
   "outputs": [
    {
     "name": "stdout",
     "output_type": "stream",
     "text": [
      "step=0, approximation=1.0\n",
      "step=100, approximation=2.0370359763344877e-10\n",
      "step=200, approximation=4.149515568880998e-20\n",
      "step=300, approximation=8.452712498170662e-30\n",
      "step=400, approximation=1.721847945638578e-39\n",
      "step=500, approximation=3.507466211043411e-49\n",
      "step=600, approximation=7.144834857673038e-59\n",
      "step=700, approximation=1.4554285650048669e-68\n",
      "step=800, approximation=2.9647603478997876e-78\n",
      "step=900, approximation=6.039323489881814e-88\n",
      "step=1000, approximation=1.2302319221611202e-97\n"
     ]
    }
   ],
   "source": [
    "#\n",
    "# initial guess = 1.0\n",
    "#\n",
    "model = Y(1.0)\n",
    "\n",
    "optimizer = optim.SGD(model.parameters(), lr=0.1)\n",
    "#x = torch.tensor(1.0, requires_grad=True)\n",
    "\n",
    "for i in range(T+1):\n",
    "    currApprox=model.x.item()\n",
    "    writer.add_scalar(\"approx/step\", currApprox, i)\n",
    "    if i % STEP == 0:\n",
    "        print(f\"step={i}, approximation={currApprox}\")\n",
    "    optimizer.zero_grad()\n",
    "    #e=model()\n",
    "    e = model.forward()\n",
    "    e.backward()\n",
    "    optimizer.step()\n",
    "\n",
    "writer.flush()"
   ]
  },
  {
   "cell_type": "code",
   "execution_count": 30,
   "id": "8fa23070-655d-4628-b7cb-9aaba6cce7d8",
   "metadata": {},
   "outputs": [
    {
     "name": "stdout",
     "output_type": "stream",
     "text": [
      "step=0, approximation=1.0\n",
      "step=100, approximation=0.13261955976486206\n",
      "step=200, approximation=0.017587954178452492\n",
      "step=300, approximation=0.0023325064685195684\n",
      "step=400, approximation=0.00030933599919080734\n",
      "step=500, approximation=4.102399543626234e-05\n",
      "step=600, approximation=5.4405822993430775e-06\n",
      "step=700, approximation=7.215276127681136e-07\n",
      "step=800, approximation=9.568864811626554e-08\n",
      "step=900, approximation=1.2690186679265025e-08\n",
      "step=1000, approximation=1.6829660998141094e-09\n"
     ]
    }
   ],
   "source": [
    "import torch\n",
    "from torch.autograd import Variable\n",
    "\n",
    "init_val = torch.FloatTensor([1.0])\n",
    "x = Variable(init_val, requires_grad=True)\n",
    "#opt = torch.optim.Adam([x], lr=.1, betas=(0.5, 0.999))\n",
    "opt = torch.optim.SGD([x], lr=.01)\n",
    "\n",
    "for i in range(T+1):\n",
    "    if i % int(STEP) == 0:\n",
    "        print(f\"step={i}, approximation={x.item()}\")\n",
    "    opt.zero_grad()\n",
    "    curr_val = torch.pow(x,2)\n",
    "    curr_val.backward() # Calculate gradients\n",
    "    opt.step()"
   ]
  },
  {
   "cell_type": "code",
   "execution_count": 31,
   "id": "6af7682e-a7f7-4f5e-a71c-05108f7b2939",
   "metadata": {},
   "outputs": [],
   "source": [
    "with SummaryWriter() as w:\n",
    "    for i in range(5):\n",
    "        w.add_hparams({'lr': 0.1*i, 'bsize': i, 'something':i**2},\n",
    "                      {'accuracy': 10*i, 'loss': 10*i})\n",
    "    w.flush()"
   ]
  },
  {
   "cell_type": "code",
   "execution_count": null,
   "id": "23b5ca9a-8035-4c82-9e87-9043eeded229",
   "metadata": {},
   "outputs": [],
   "source": []
  }
 ],
 "metadata": {
  "kernelspec": {
   "display_name": "Python 3 (ipykernel)",
   "language": "python",
   "name": "python3"
  },
  "language_info": {
   "codemirror_mode": {
    "name": "ipython",
    "version": 3
   },
   "file_extension": ".py",
   "mimetype": "text/x-python",
   "name": "python",
   "nbconvert_exporter": "python",
   "pygments_lexer": "ipython3",
   "version": "3.11.5"
  }
 },
 "nbformat": 4,
 "nbformat_minor": 5
}
