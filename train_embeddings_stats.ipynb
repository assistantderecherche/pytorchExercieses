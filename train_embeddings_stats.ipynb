{
  "cells": [
    {
      "cell_type": "code",
      "execution_count": null,
      "id": "36f804f4",
      "metadata": {
        "id": "36f804f4"
      },
      "outputs": [],
      "source": [
        "import torch\n",
        "import numpy as np\n",
        "\n",
        "from torch._C import NoneType\n",
        "from torch import nn\n",
        "from torch.nn import functional as F"
      ]
    },
    {
      "cell_type": "code",
      "execution_count": null,
      "id": "0631d96f",
      "metadata": {
        "colab": {
          "base_uri": "https://localhost:8080/"
        },
        "id": "0631d96f",
        "outputId": "b5127746-8978-4ca5-9f92-43334bf65be2"
      },
      "outputs": [
        {
          "output_type": "stream",
          "name": "stdout",
          "text": [
            "--2023-02-22 23:24:45--  https://raw.githubusercontent.com/karpathy/char-rnn/master/data/tinyshakespeare/input.txt\n",
            "Resolving raw.githubusercontent.com (raw.githubusercontent.com)... 185.199.108.133, 185.199.109.133, 185.199.110.133, ...\n",
            "Connecting to raw.githubusercontent.com (raw.githubusercontent.com)|185.199.108.133|:443... connected.\n",
            "HTTP request sent, awaiting response... 200 OK\n",
            "Length: 1115394 (1.1M) [text/plain]\n",
            "Saving to: ‘input.txt’\n",
            "\n",
            "input.txt           100%[===================>]   1.06M  --.-KB/s    in 0.03s   \n",
            "\n",
            "2023-02-22 23:24:45 (30.4 MB/s) - ‘input.txt’ saved [1115394/1115394]\n",
            "\n"
          ]
        }
      ],
      "source": [
        "!wget https://raw.githubusercontent.com/karpathy/char-rnn/master/data/tinyshakespeare/input.txt"
      ]
    },
    {
      "cell_type": "code",
      "execution_count": null,
      "id": "1a73ac49",
      "metadata": {
        "id": "1a73ac49"
      },
      "outputs": [],
      "source": [
        "with open('input.txt', 'r', encoding='utf-8') as f:\n",
        "    text = f.read()"
      ]
    },
    {
      "cell_type": "code",
      "execution_count": null,
      "id": "b5a12515",
      "metadata": {
        "colab": {
          "base_uri": "https://localhost:8080/"
        },
        "id": "b5a12515",
        "outputId": "a20db2df-ebd0-4f69-dcd2-08e4ee949464"
      },
      "outputs": [
        {
          "output_type": "stream",
          "name": "stdout",
          "text": [
            "1115394\n",
            "First Citizen:\n",
            "Before we proceed any further, hear me speak.\n",
            "\n",
            "All:\n",
            "Speak, speak.\n",
            "\n",
            "First Citizen:\n",
            "You\n"
          ]
        }
      ],
      "source": [
        "print(len(text))\n",
        "print(text[:100])"
      ]
    },
    {
      "cell_type": "code",
      "execution_count": null,
      "id": "4d9b9f49",
      "metadata": {
        "colab": {
          "base_uri": "https://localhost:8080/"
        },
        "id": "4d9b9f49",
        "outputId": "5dc49ecc-868c-426c-a1cd-60d9742bd795"
      },
      "outputs": [
        {
          "output_type": "stream",
          "name": "stdout",
          "text": [
            "vocabulary size = 65\n",
            "\n",
            " !$&',-.3:;?ABCDEFGHIJKLMNOPQRSTUVWXYZabcdefghijklmnopqrstuvwxyz\n"
          ]
        }
      ],
      "source": [
        "chars = sorted(list(set(text)))\n",
        "vocab_size = len(chars)\n",
        "print(f\"vocabulary size = {vocab_size}\")\n",
        "print(''.join(chars))"
      ]
    },
    {
      "cell_type": "code",
      "execution_count": null,
      "id": "79312641",
      "metadata": {
        "id": "79312641"
      },
      "outputs": [],
      "source": [
        "stoi = {ch:i for i, ch in enumerate(chars)}\n",
        "itos = {i:ch for i, ch in enumerate(chars)}\n",
        "encode = lambda s: [stoi[c] if c in stoi else -1 for c in s]\n",
        "decode = lambda l: ''.join([itos[i] if i in itos else '' for i in l ])\n",
        "tdecode = lambda l: ''.join([itos[int(i)] if int(i) in itos else '' for i in l ])"
      ]
    },
    {
      "cell_type": "code",
      "execution_count": null,
      "id": "9ced54e5",
      "metadata": {
        "colab": {
          "base_uri": "https://localhost:8080/"
        },
        "id": "9ced54e5",
        "outputId": "5b60d8c6-d5da-4201-93b9-55546a1e38d4"
      },
      "outputs": [
        {
          "output_type": "stream",
          "name": "stdout",
          "text": [
            "[46, 47, 47, 1, 58, 46, 43, 56, 43, -1, -1, -1]\n",
            " !$&'\n"
          ]
        }
      ],
      "source": [
        "print(encode(\"hii there>>>\"))\n",
        "print(decode([1,2,3,4,5, 10000, 10000000]))"
      ]
    },
    {
      "cell_type": "code",
      "execution_count": null,
      "id": "256de0e2",
      "metadata": {
        "colab": {
          "base_uri": "https://localhost:8080/"
        },
        "id": "256de0e2",
        "outputId": "34b78b91-5c5a-4fb1-ccba-1ab9ac568b0c"
      },
      "outputs": [
        {
          "output_type": "stream",
          "name": "stdout",
          "text": [
            "hii there\n"
          ]
        }
      ],
      "source": [
        "print(decode(encode('hii there>>>')))"
      ]
    },
    {
      "cell_type": "code",
      "execution_count": null,
      "id": "a765985e",
      "metadata": {
        "id": "a765985e"
      },
      "outputs": [],
      "source": [
        "data = torch.tensor(encode(text), dtype=torch.long)"
      ]
    },
    {
      "cell_type": "code",
      "execution_count": null,
      "id": "1856d18d",
      "metadata": {
        "colab": {
          "base_uri": "https://localhost:8080/"
        },
        "id": "1856d18d",
        "outputId": "8509ace8-896e-4a80-8514-a1d7f20dfe46"
      },
      "outputs": [
        {
          "output_type": "stream",
          "name": "stdout",
          "text": [
            "torch.Size([1115394])\n",
            "torch.LongTensor\n",
            "1115394\n",
            "tensor([18, 47, 56, 57, 58,  1, 15, 47, 58, 47])\n"
          ]
        }
      ],
      "source": [
        "print(data.shape)\n",
        "print(data.type())\n",
        "print(len(text))\n",
        "print(data[:10])"
      ]
    },
    {
      "cell_type": "code",
      "execution_count": null,
      "id": "cf824443",
      "metadata": {
        "colab": {
          "base_uri": "https://localhost:8080/"
        },
        "id": "cf824443",
        "outputId": "766b77fb-d9eb-48a6-d112-1ef201ee650d"
      },
      "outputs": [
        {
          "output_type": "stream",
          "name": "stdout",
          "text": [
            "First Citi\n",
            "First Citi\n"
          ]
        }
      ],
      "source": [
        "print(decode([int(x) for x in data[0:10]]))\n",
        "print(tdecode(data[0:10]))"
      ]
    },
    {
      "cell_type": "code",
      "execution_count": null,
      "id": "dcb38abf",
      "metadata": {
        "colab": {
          "base_uri": "https://localhost:8080/"
        },
        "id": "dcb38abf",
        "outputId": "53f52ccf-87bf-4958-865e-ac2190751bab"
      },
      "outputs": [
        {
          "output_type": "stream",
          "name": "stdout",
          "text": [
            "0\n"
          ]
        }
      ],
      "source": [
        "n = int(0.9*len(data))\n",
        "train_data=data[:n]\n",
        "val_data=data[n:]\n",
        "\n",
        "all = torch.cat((train_data,val_data))\n",
        "print(len(all)-len(data))"
      ]
    },
    {
      "cell_type": "code",
      "execution_count": null,
      "id": "f81799ca",
      "metadata": {
        "colab": {
          "base_uri": "https://localhost:8080/"
        },
        "id": "f81799ca",
        "outputId": "3d64fc4f-fa6a-4997-86b6-15c42b77e559"
      },
      "outputs": [
        {
          "output_type": "execute_result",
          "data": {
            "text/plain": [
              "tensor([47, 56, 57, 58,  1, 15, 47, 58])"
            ]
          },
          "metadata": {},
          "execution_count": 13
        }
      ],
      "source": [
        "block_size = 8\n",
        "batch_size = 4\n",
        "train_data[1:block_size+1]"
      ]
    },
    {
      "cell_type": "code",
      "source": [
        "x=train_data[:block_size]\n",
        "print(f\"\\n\\nx = {x}\")\n",
        "y=train_data[1:block_size+1]\n",
        "print(f\"y   =   {y}\\n\\n\")\n",
        "\n",
        "for t in range(block_size):\n",
        "  context = x[:t+1]\n",
        "  target = y[t]\n",
        "  print(f\"context = {context}, target = {target}\")"
      ],
      "metadata": {
        "colab": {
          "base_uri": "https://localhost:8080/"
        },
        "id": "GxLXqcHaxaZq",
        "outputId": "4d1b65a8-d17e-4b1d-85eb-3dcf8461f243"
      },
      "id": "GxLXqcHaxaZq",
      "execution_count": null,
      "outputs": [
        {
          "output_type": "stream",
          "name": "stdout",
          "text": [
            "\n",
            "\n",
            "x = tensor([18, 47, 56, 57, 58,  1, 15, 47])\n",
            "y   =   tensor([47, 56, 57, 58,  1, 15, 47, 58])\n",
            "\n",
            "\n",
            "context = tensor([18]), target = 47\n",
            "context = tensor([18, 47]), target = 56\n",
            "context = tensor([18, 47, 56]), target = 57\n",
            "context = tensor([18, 47, 56, 57]), target = 58\n",
            "context = tensor([18, 47, 56, 57, 58]), target = 1\n",
            "context = tensor([18, 47, 56, 57, 58,  1]), target = 15\n",
            "context = tensor([18, 47, 56, 57, 58,  1, 15]), target = 47\n",
            "context = tensor([18, 47, 56, 57, 58,  1, 15, 47]), target = 58\n"
          ]
        }
      ]
    },
    {
      "cell_type": "code",
      "source": [
        "def get_batch(split):\n",
        "  data = train_data if split =='train' else val_data\n",
        "  ix = torch.randint(len(data)-block_size, (batch_size,))\n",
        "  x = torch.stack([data[t:t+block_size] for t in ix])\n",
        "  y = torch.stack([data[t+1: t+block_size+1] for t in ix])\n",
        "  return x,y"
      ],
      "metadata": {
        "id": "yHyLkyNWO_JS"
      },
      "id": "yHyLkyNWO_JS",
      "execution_count": null,
      "outputs": []
    },
    {
      "cell_type": "code",
      "source": [
        "torch.manual_seed(1337)\n",
        "xb, yb = get_batch('train')\n",
        "print(xb)\n",
        "print(yb)\n",
        "print(xb.shape, yb.shape)"
      ],
      "metadata": {
        "colab": {
          "base_uri": "https://localhost:8080/"
        },
        "id": "pQJX7-ad15IB",
        "outputId": "68467a3b-b477-43ec-beec-892bdfe3612e"
      },
      "id": "pQJX7-ad15IB",
      "execution_count": null,
      "outputs": [
        {
          "output_type": "stream",
          "name": "stdout",
          "text": [
            "tensor([[24, 43, 58,  5, 57,  1, 46, 43],\n",
            "        [44, 53, 56,  1, 58, 46, 39, 58],\n",
            "        [52, 58,  1, 58, 46, 39, 58,  1],\n",
            "        [25, 17, 27, 10,  0, 21,  1, 54]])\n",
            "tensor([[43, 58,  5, 57,  1, 46, 43, 39],\n",
            "        [53, 56,  1, 58, 46, 39, 58,  1],\n",
            "        [58,  1, 58, 46, 39, 58,  1, 46],\n",
            "        [17, 27, 10,  0, 21,  1, 54, 39]])\n",
            "torch.Size([4, 8]) torch.Size([4, 8])\n"
          ]
        }
      ]
    },
    {
      "cell_type": "code",
      "source": [
        "torch.manual_seed(1337)\n",
        "\n",
        "class BigramLanguageModel(nn.Module):\n",
        "  def __init__(self, vocab_size):\n",
        "    super().__init__()\n",
        "    # how the 'Bigram' part is related to the embedding dimensionality?\n",
        "    # both num_embeddings and embedding_dim equal to vocab_size (!!!) \n",
        "    # manual: https://pytorch.org/docs/stable/generated/torch.nn.Embedding.html\n",
        "    self.token_embedding_table = nn.Embedding(vocab_size, vocab_size)\n",
        "\n",
        "  def forward(self, idx, targets=None):\n",
        "    # idx is the same as x: sequences of len block_size and targets are the\n",
        "    # same as before (y), the correct expected outcomes\n",
        "    # -- also looked up in the embedding table?\n",
        "\n",
        "    logits = self.token_embedding_table(idx) #(B,T,C) batch, time, channel\n",
        "    # channel is the vocabulary size (!!!); as if number of colurs = 65 :)\n",
        "    #print(f\"logits type: {type(logits)}, logits shape: {logits.shape}\")\n",
        "\n",
        "    if targets is None:\n",
        "      loss = None\n",
        "    else:\n",
        "      B, T, C = logits.shape\n",
        "      logits = logits.view(B*T, C)\n",
        "      targets = targets.view(B*T)\n",
        "      loss = F.cross_entropy(logits, targets)\n",
        "      \n",
        "    return logits, loss\n",
        "\n",
        "  def generate(self, idx, max_new_tokens):\n",
        "    for _ in range(max_new_tokens):\n",
        "      logits, loss = self(idx);\n",
        "      logits = logits[:,-1,:] # the last time slice, (BxC)\n",
        "\n",
        "      # for each batch B get a distribution of classes C\n",
        "      probs = F.softmax(logits, dim=-1) \n",
        "\n",
        "      # 1 sample from each row for each batch\n",
        "      idx_next = torch.multinomial(probs, num_slamples=1) \n",
        "\n",
        "      idx = torch.cat((idx, idx_next), dim = 1)\n",
        "\n",
        "    return idx\n",
        "\n"
      ],
      "metadata": {
        "id": "6EYlZ_oXSakZ"
      },
      "id": "6EYlZ_oXSakZ",
      "execution_count": null,
      "outputs": []
    },
    {
      "cell_type": "code",
      "source": [
        "m = BigramLanguageModel(vocab_size)\n",
        "\n",
        "logits, loss = m(xb,yb)\n",
        "print(logits.shape)\n",
        "print(f\"recall that batch size = {batch_size}\")\n",
        "ind = 17\n",
        "offset = torch.argmax(logits[ind,:])\n",
        "print(decode([ind]), decode([int(offset)]))\n",
        "print(offset)\n",
        "print(logits[0,:])\n",
        "print(f\"loss = {loss}, vs {float(-torch.log(torch.Tensor([1/65])))}\")\n"
      ],
      "metadata": {
        "colab": {
          "base_uri": "https://localhost:8080/"
        },
        "id": "WErYyDAmvBHA",
        "outputId": "7d034949-d219-4d26-dd25-052234156b5b"
      },
      "id": "WErYyDAmvBHA",
      "execution_count": null,
      "outputs": [
        {
          "output_type": "stream",
          "name": "stdout",
          "text": [
            "torch.Size([32, 65])\n",
            "recall that batch size = 4\n",
            "E R\n",
            "tensor(30)\n",
            "tensor([-1.5101, -0.0948,  1.0927,  0.1505,  1.6347, -0.0518,  0.4996,  0.7216,\n",
            "        -0.8968, -0.4122,  1.0030,  0.8508,  0.2178,  0.0328, -0.1699,  1.0659,\n",
            "        -0.6177,  1.1824,  0.0214, -0.2154, -1.4623,  2.1707,  0.1624,  1.0296,\n",
            "         0.4154,  0.6207,  0.2341, -0.0326,  1.0124,  1.5122, -0.3359,  0.2456,\n",
            "         1.8682,  0.7536, -0.1177, -0.1967, -0.9552, -0.8995, -0.9583, -0.5945,\n",
            "         0.1321, -0.5406,  0.1405, -0.7321,  1.1796,  1.3316, -0.2094,  0.0960,\n",
            "         0.9040, -0.4032,  0.3027, -0.8034, -1.2537, -1.5195,  0.7446,  1.1914,\n",
            "        -0.8061, -0.6290,  1.2447, -2.4400,  0.8408, -0.3993, -0.6126, -0.6597,\n",
            "         0.7624], grad_fn=<SliceBackward0>)\n",
            "loss = 4.878634929656982, vs 4.174387454986572\n"
          ]
        }
      ]
    },
    {
      "cell_type": "code",
      "source": [
        "print(logits.shape)\n",
        "offsets = torch.argmax(logits, 0)\n",
        "err = offsets - torch.tensor(range(vocab_size))\n",
        "print(err)"
      ],
      "metadata": {
        "colab": {
          "base_uri": "https://localhost:8080/"
        },
        "id": "B6xorCllfuqz",
        "outputId": "d718c887-977b-4e95-d1e5-7fc26367fe89"
      },
      "id": "B6xorCllfuqz",
      "execution_count": null,
      "outputs": [
        {
          "output_type": "stream",
          "name": "stdout",
          "text": [
            "torch.Size([32, 65])\n",
            "tensor([ 14,   7,  12,   1,  25,   4,   3,  -2,   1,  18,  14,   3,  -4, -12,\n",
            "         15,  12, -15, -13, -10,   6,   5, -21,   9, -23,   2,   4, -18, -21,\n",
            "        -14, -13, -28,  -3, -32, -31,  -5,  -6, -11, -36, -37, -36, -14, -12,\n",
            "        -32, -33, -39, -35, -45, -38, -20, -25, -26, -20, -23, -24, -26, -47,\n",
            "        -52, -51, -56, -55, -59, -34, -31, -55, -59])\n"
          ]
        }
      ]
    },
    {
      "cell_type": "code",
      "source": [
        "# Peaking inside the nn.Embedding; the table is filled with random vectors\n",
        "# -- they clearly aren't uniform\n",
        "\n",
        "m1 = BigramLanguageModel(100)\n",
        "arow = m1.token_embedding_table.weight[8,:].detach()\n",
        "print(type(arow))\n",
        "xxx = torch.tensor([[1,2,3],[4,5,6]])\n",
        "xx = torch.tensor([1,2,3])\n",
        "\n",
        "print(xxx.numpy())\n",
        "print(xx.numpy())\n",
        "print(type(xxx))\n",
        "print(type(arow))\n",
        "print(arow.numpy())\n",
        "\n",
        "from scipy.stats import kstest\n",
        "\n",
        "from numpy.random import uniform\n",
        "\n",
        "print(f\"row uniformity test = {kstest(arow, 'uniform')}\")\n",
        "print(f\"row uniformity test = {kstest('uniform', arow)}\")\n",
        "\n",
        "\n",
        "print(f\"\\tscaled uniform dist: {kstest(arow, uniform(arow.min(),arow.max(),100))}\")\n",
        "print(f\"\\tscaled uniform dist: {kstest(uniform(arow.min(),arow.max(),100), uniform(arow.min(),arow.max(),100))}\")\n",
        "\n",
        "print(f\"row mean = {arow.mean()}, row variance = {arow.var()}\")\n",
        "print(f\"row max = {arow.max()}, row min = {arow.min()}\")"
      ],
      "metadata": {
        "colab": {
          "base_uri": "https://localhost:8080/"
        },
        "id": "gSqPGRLhKWAS",
        "outputId": "15738396-ac0d-4f9b-b1ae-e553b2f41806"
      },
      "id": "gSqPGRLhKWAS",
      "execution_count": null,
      "outputs": [
        {
          "output_type": "stream",
          "name": "stdout",
          "text": [
            "<class 'torch.Tensor'>\n",
            "[[1 2 3]\n",
            " [4 5 6]]\n",
            "[1 2 3]\n",
            "<class 'torch.Tensor'>\n",
            "<class 'torch.Tensor'>\n",
            "[ 0.91533643  0.28511047  0.02464807 -0.06170974  0.6286742  -1.624331\n",
            "  0.6118156  -0.49852288  0.552538    0.64291096 -0.10637938 -0.0396924\n",
            "  0.7712426   0.18075119 -1.3900133   0.913436    2.3732636   0.54066974\n",
            "  0.2440587  -0.9574874   2.0510724   1.226435    0.06745743  0.30648127\n",
            "  1.2500786  -1.7801679   0.557168    1.77622     0.1409601  -0.02861914\n",
            "  0.2954816   0.5533202  -1.1178716   0.5589163  -0.5130493   0.5939884\n",
            "  0.06512062  1.9891254  -0.43615332  0.14840713 -0.41575283  0.52409846\n",
            "  0.7726778   0.89816624 -2.6723442  -1.6906072   0.63767874  0.65437585\n",
            "  1.6451852  -1.031029    0.47609633 -0.04221632  0.7643164   0.17311026\n",
            "  1.1340983  -1.7743453  -2.3412828  -0.8441665  -0.6238125   2.3082118\n",
            " -1.2818608   1.3256718   1.3595418   0.6562603   0.43274987  1.2447022\n",
            "  0.90848625 -0.14481431 -0.43882647  0.9699627   0.71978116 -1.951609\n",
            "  1.3540039  -1.895529    0.33774066 -0.93733686  1.1130668   0.9858939\n",
            " -0.6222763  -0.3688915   1.2648487  -0.549429   -0.6153596   1.3289566\n",
            "  0.4635735  -0.68527913 -0.15638016 -0.38714343  0.45743963 -0.76439345\n",
            "  1.2340639   0.5650265  -0.52492934 -0.8659505   0.2902173   0.7008761\n",
            " -0.70991844 -0.4607308  -0.33506197  0.27832967]\n",
            "row uniformity test = KstestResult(statistic=0.4, pvalue=5.947617451361663e-15)\n",
            "row uniformity test = KstestResult(statistic=0.4, pvalue=0.007317362056680543)\n",
            "\tscaled uniform dist: KstestResult(statistic=0.2, pvalue=0.03638428787491733)\n",
            "\tscaled uniform dist: KstestResult(statistic=0.14, pvalue=0.2819416298082479)\n",
            "row mean = 0.14558620750904083, row variance = 1.0184502601623535\n",
            "row max = 2.3732635974884033, row min = -2.672344207763672\n"
          ]
        }
      ]
    },
    {
      "cell_type": "code",
      "source": [
        "import matplotlib.pyplot as plt\n",
        "\n",
        "data = (arow-arow.min())/(arow.max()-arow.min())\n",
        "#print(data)\n",
        "N=len(data)\n",
        "cdf = []\n",
        "x=np.arange(0,1,0.01)\n",
        "for t in x:\n",
        "  cdf.append(len(data[data<t])/N)\n",
        "\n",
        "N = 100\n",
        "data_u = uniform(0,1,N)\n",
        "#print(data_u)\n",
        "cdf_u = []\n",
        "x=np.arange(0,1,0.01)\n",
        "for t in x:\n",
        "  cdf_u.append(len(data_u[data_u<t])/N)\n",
        "\n",
        "plt.scatter(x=x, y=cdf)\n",
        "plt.scatter(x=x, y = cdf_u)\n",
        "plt.show()"
      ],
      "metadata": {
        "colab": {
          "base_uri": "https://localhost:8080/",
          "height": 265
        },
        "id": "WYAGf9I7f5pk",
        "outputId": "2266dbce-4887-4320-ae37-963de16c34fd"
      },
      "id": "WYAGf9I7f5pk",
      "execution_count": null,
      "outputs": [
        {
          "output_type": "display_data",
          "data": {
            "text/plain": [
              "<Figure size 432x288 with 1 Axes>"
            ],
            "image/png": "[encoded data removed]"
          },
          "metadata": {
            "needs_background": "light"
          }
        }
      ]
    },
    {
      "cell_type": "code",
      "source": [
        "# same with subplot for no good reason\n",
        "fig = plt.figure()\n",
        "ax = fig.add_subplot(111)\n",
        "N=100\n",
        "data = uniform(0,1,N)\n",
        "cdf_u = []\n",
        "x=np.arange(0,1,0.01)\n",
        "for t in x:\n",
        "  cdf_u.append(len(data[data<t])/N)\n",
        "\n",
        "ax.scatter(x=x, y=cdf, label='cdf: embedding row')\n",
        "ax.scatter(x=x, y=cdf_u, label='cdf: uniform sample')\n",
        "plt.legend(loc='upper left')\n",
        "plt.show()"
      ],
      "metadata": {
        "colab": {
          "base_uri": "https://localhost:8080/",
          "height": 265
        },
        "id": "tWUWysuXiEqo",
        "outputId": "d4ff9a93-ef07-4130-d21f-ecc2abd39b63"
      },
      "id": "tWUWysuXiEqo",
      "execution_count": null,
      "outputs": [
        {
          "output_type": "display_data",
          "data": {
            "text/plain": [
              "<Figure size 432x288 with 1 Axes>"
            ],
            "image/png": "[encoded data removed]"
          },
          "metadata": {
            "needs_background": "light"
          }
        }
      ]
    }
  ],
  "metadata": {
    "kernelspec": {
      "display_name": "Python 3 (ipykernel)",
      "language": "python",
      "name": "python3"
    },
    "language_info": {
      "codemirror_mode": {
        "name": "ipython",
        "version": 3
      },
      "file_extension": ".py",
      "mimetype": "text/x-python",
      "name": "python",
      "nbconvert_exporter": "python",
      "pygments_lexer": "ipython3",
      "version": "3.9.6"
    },
    "colab": {
      "provenance": []
    }
  },
  "nbformat": 4,
  "nbformat_minor": 5
}